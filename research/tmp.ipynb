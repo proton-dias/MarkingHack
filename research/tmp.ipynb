{
 "cells": [
  {
   "cell_type": "code",
   "execution_count": 4,
   "metadata": {},
   "outputs": [],
   "source": [
    "from parcing_tools import index_parser"
   ]
  },
  {
   "cell_type": "code",
   "execution_count": 7,
   "metadata": {},
   "outputs": [
    {
     "ename": "DBFNotFound",
     "evalue": "could not find file '../raw_data/index.dbf'",
     "output_type": "error",
     "traceback": [
      "\u001b[0;31m---------------------------------------------------------------------------\u001b[0m",
      "\u001b[0;31mDBFNotFound\u001b[0m                               Traceback (most recent call last)",
      "Cell \u001b[0;32mIn[7], line 1\u001b[0m\n\u001b[0;32m----> 1\u001b[0m \u001b[39mprint\u001b[39m(index_parser\u001b[39m.\u001b[39;49mget_data_frame())\n",
      "File \u001b[0;32m~/Documents/Code/MarkingHack/parcing_tools/index_parser.py:6\u001b[0m, in \u001b[0;36mget_data_frame\u001b[0;34m()\u001b[0m\n\u001b[1;32m      5\u001b[0m \u001b[39mdef\u001b[39;00m \u001b[39mget_data_frame\u001b[39m() \u001b[39m-\u001b[39m\u001b[39m>\u001b[39m pd\u001b[39m.\u001b[39mDataFrame:\n\u001b[0;32m----> 6\u001b[0m     index_dbf \u001b[39m=\u001b[39m DBF(\u001b[39m\"\u001b[39;49m\u001b[39m../raw_data/index.dbf\u001b[39;49m\u001b[39m\"\u001b[39;49m)\n\u001b[1;32m      7\u001b[0m     data_frame \u001b[39m=\u001b[39m pd\u001b[39m.\u001b[39mDataFrame(index_dbf)\n\u001b[1;32m      8\u001b[0m     \u001b[39mreturn\u001b[39;00m data_frame\n",
      "File \u001b[0;32m~/anaconda3/envs/MarkingHack/lib/python3.11/site-packages/dbfread/dbf.py:110\u001b[0m, in \u001b[0;36mDBF.__init__\u001b[0;34m(self, filename, encoding, ignorecase, lowernames, parserclass, recfactory, load, raw, ignore_missing_memofile, char_decode_errors)\u001b[0m\n\u001b[1;32m    108\u001b[0m     \u001b[39mself\u001b[39m\u001b[39m.\u001b[39mfilename \u001b[39m=\u001b[39m ifind(filename)\n\u001b[1;32m    109\u001b[0m     \u001b[39mif\u001b[39;00m \u001b[39mnot\u001b[39;00m \u001b[39mself\u001b[39m\u001b[39m.\u001b[39mfilename:\n\u001b[0;32m--> 110\u001b[0m         \u001b[39mraise\u001b[39;00m DBFNotFound(\u001b[39m'\u001b[39m\u001b[39mcould not find file \u001b[39m\u001b[39m{!r}\u001b[39;00m\u001b[39m'\u001b[39m\u001b[39m.\u001b[39mformat(filename))\n\u001b[1;32m    111\u001b[0m \u001b[39melse\u001b[39;00m:\n\u001b[1;32m    112\u001b[0m     \u001b[39mself\u001b[39m\u001b[39m.\u001b[39mfilename \u001b[39m=\u001b[39m filename\n",
      "\u001b[0;31mDBFNotFound\u001b[0m: could not find file '../raw_data/index.dbf'"
     ]
    }
   ],
   "source": [
    "print(index_parser.get_data_frame())"
   ]
  }
 ],
 "metadata": {
  "kernelspec": {
   "display_name": "MarkingHack",
   "language": "python",
   "name": "python3"
  },
  "language_info": {
   "codemirror_mode": {
    "name": "ipython",
    "version": 3
   },
   "file_extension": ".py",
   "mimetype": "text/x-python",
   "name": "python",
   "nbconvert_exporter": "python",
   "pygments_lexer": "ipython3",
   "version": "3.11.2"
  },
  "orig_nbformat": 4
 },
 "nbformat": 4,
 "nbformat_minor": 2
}

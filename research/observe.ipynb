{
 "cells": [
  {
   "cell_type": "code",
   "execution_count": 8,
   "metadata": {},
   "outputs": [],
   "source": [
    "import pandas as pd \n",
    "import numpy as np\n",
    "import seaborn as sns\n",
    "import matplotlib.pyplot as plt\n",
    "import plotly.express as px\n",
    "from config import *\n"
   ]
  },
  {
   "attachments": {},
   "cell_type": "markdown",
   "metadata": {},
   "source": [
    "## Переведем в паркеты"
   ]
  },
  {
   "cell_type": "code",
   "execution_count": 1,
   "metadata": {},
   "outputs": [],
   "source": [
    "!python to_parquets.py"
   ]
  },
  {
   "attachments": {},
   "cell_type": "markdown",
   "metadata": {},
   "source": [
    "## helper functions"
   ]
  },
  {
   "cell_type": "code",
   "execution_count": 4,
   "metadata": {},
   "outputs": [],
   "source": [
    "def pie_plot(df:pd.DataFrame, column:str, postfix=\"\"):\n",
    "    counts = df.value_counts(column)\n",
    "    plt.title(f\"{column} {postfix}\")\n",
    "    plt.pie(counts.values, labels = [f\"{x}\" for x in counts.index], colors = sns.color_palette('pastel'), autopct='%.0f%%')\n",
    "    plt.show()"
   ]
  },
  {
   "cell_type": "code",
   "execution_count": 5,
   "metadata": {},
   "outputs": [],
   "source": [
    "def show_boxplot(df, column):\n",
    "    plt.title(column)\n",
    "    sns.boxplot(data=df, x=column)\n",
    "    plt.show()"
   ]
  },
  {
   "attachments": {},
   "cell_type": "markdown",
   "metadata": {},
   "source": [
    "## Данные о вводе товаров в оборот"
   ]
  },
  {
   "cell_type": "code",
   "execution_count": 2,
   "metadata": {},
   "outputs": [],
   "source": [
    "input_circulation_data = pd.read_parquet(INPUT_CIRCULATION_PARQUET_FILENAME)"
   ]
  },
  {
   "cell_type": "code",
   "execution_count": 3,
   "metadata": {},
   "outputs": [
    {
     "data": {
      "text/html": [
       "<div>\n",
       "<style scoped>\n",
       "    .dataframe tbody tr th:only-of-type {\n",
       "        vertical-align: middle;\n",
       "    }\n",
       "\n",
       "    .dataframe tbody tr th {\n",
       "        vertical-align: top;\n",
       "    }\n",
       "\n",
       "    .dataframe thead th {\n",
       "        text-align: right;\n",
       "    }\n",
       "</style>\n",
       "<table border=\"1\" class=\"dataframe\">\n",
       "  <thead>\n",
       "    <tr style=\"text-align: right;\">\n",
       "      <th></th>\n",
       "      <th>dt</th>\n",
       "      <th>inn</th>\n",
       "      <th>gtin</th>\n",
       "      <th>prid</th>\n",
       "      <th>operation_type</th>\n",
       "      <th>cnt</th>\n",
       "    </tr>\n",
       "  </thead>\n",
       "  <tbody>\n",
       "    <tr>\n",
       "      <th>0</th>\n",
       "      <td>2021-11-22</td>\n",
       "      <td>F0C677A146366202906368AF9FCEC188</td>\n",
       "      <td>C238E7C33B56BA911F576777316EC9F2</td>\n",
       "      <td>F0C677A146366202906368AF9FCEC188</td>\n",
       "      <td>Импорт. Не ЕАЭС</td>\n",
       "      <td>6</td>\n",
       "    </tr>\n",
       "    <tr>\n",
       "      <th>1</th>\n",
       "      <td>2021-11-22</td>\n",
       "      <td>F0DC262C40FBA363CFCEF8005E4C6140</td>\n",
       "      <td>4D3423957ECDC40F70E37EB75A6A2D3E</td>\n",
       "      <td>F0DC262C40FBA363CFCEF8005E4C6140</td>\n",
       "      <td>Перемаркировка</td>\n",
       "      <td>10</td>\n",
       "    </tr>\n",
       "    <tr>\n",
       "      <th>2</th>\n",
       "      <td>2021-11-22</td>\n",
       "      <td>32D845A9CC2A5BFA9F77CAE0E9A905A5</td>\n",
       "      <td>F1931263F03E1D89A43A3633AAF9FB84</td>\n",
       "      <td>32D845A9CC2A5BFA9F77CAE0E9A905A5</td>\n",
       "      <td>Импорт. Не ЕАЭС</td>\n",
       "      <td>600</td>\n",
       "    </tr>\n",
       "    <tr>\n",
       "      <th>3</th>\n",
       "      <td>2021-11-22</td>\n",
       "      <td>CE816FDF82B121C67CAE9B79203B8BA1</td>\n",
       "      <td>0374D8CAC82E9F0D47C95FA13D68C7C6</td>\n",
       "      <td>CE816FDF82B121C67CAE9B79203B8BA1</td>\n",
       "      <td>Импорт. Не ЕАЭС</td>\n",
       "      <td>1860</td>\n",
       "    </tr>\n",
       "    <tr>\n",
       "      <th>4</th>\n",
       "      <td>2021-11-22</td>\n",
       "      <td>E34F3F6C9E49FE46C87D067306AAC29B</td>\n",
       "      <td>BBC31CA374A30B34CAFBFD027888A73D</td>\n",
       "      <td>E34F3F6C9E49FE46C87D067306AAC29B</td>\n",
       "      <td>РФ</td>\n",
       "      <td>1</td>\n",
       "    </tr>\n",
       "  </tbody>\n",
       "</table>\n",
       "</div>"
      ],
      "text/plain": [
       "           dt                               inn  \\\n",
       "0  2021-11-22  F0C677A146366202906368AF9FCEC188   \n",
       "1  2021-11-22  F0DC262C40FBA363CFCEF8005E4C6140   \n",
       "2  2021-11-22  32D845A9CC2A5BFA9F77CAE0E9A905A5   \n",
       "3  2021-11-22  CE816FDF82B121C67CAE9B79203B8BA1   \n",
       "4  2021-11-22  E34F3F6C9E49FE46C87D067306AAC29B   \n",
       "\n",
       "                               gtin                              prid  \\\n",
       "0  C238E7C33B56BA911F576777316EC9F2  F0C677A146366202906368AF9FCEC188   \n",
       "1  4D3423957ECDC40F70E37EB75A6A2D3E  F0DC262C40FBA363CFCEF8005E4C6140   \n",
       "2  F1931263F03E1D89A43A3633AAF9FB84  32D845A9CC2A5BFA9F77CAE0E9A905A5   \n",
       "3  0374D8CAC82E9F0D47C95FA13D68C7C6  CE816FDF82B121C67CAE9B79203B8BA1   \n",
       "4  BBC31CA374A30B34CAFBFD027888A73D  E34F3F6C9E49FE46C87D067306AAC29B   \n",
       "\n",
       "    operation_type   cnt  \n",
       "0  Импорт. Не ЕАЭС     6  \n",
       "1   Перемаркировка    10  \n",
       "2  Импорт. Не ЕАЭС   600  \n",
       "3  Импорт. Не ЕАЭС  1860  \n",
       "4               РФ     1  "
      ]
     },
     "execution_count": 3,
     "metadata": {},
     "output_type": "execute_result"
    }
   ],
   "source": [
    "input_circulation_data.head()"
   ]
  },
  {
   "cell_type": "code",
   "execution_count": 15,
   "metadata": {},
   "outputs": [
    {
     "data": {
      "image/png": "[encoded data removed]",
      "text/plain": [
       "<Figure size 640x480 with 1 Axes>"
      ]
     },
     "metadata": {},
     "output_type": "display_data"
    }
   ],
   "source": [
    "sns.boxplot(data=input_circulation_data, x=\"cnt\")\n",
    "plt.show()"
   ]
  },
  {
   "attachments": {},
   "cell_type": "markdown",
   "metadata": {},
   "source": [
    "операции записываются подневно в течение года!"
   ]
  },
  {
   "cell_type": "code",
   "execution_count": 23,
   "metadata": {},
   "outputs": [
    {
     "name": "stdout",
     "output_type": "stream",
     "text": [
      "number of days: 365\n",
      "first_day: 2021-11-22\n",
      "last_day: 2022-11-21\n"
     ]
    }
   ],
   "source": [
    "def date_info():\n",
    "    dates = sorted(input_circulation_data.dt.unique())\n",
    "    print(f\"number of days: {len(dates)}\", f\"first_day: {dates[0]}\", f\"last_day: {dates[-1]}\", sep='\\n')\n",
    "date_info()"
   ]
  },
  {
   "cell_type": "code",
   "execution_count": 6,
   "metadata": {},
   "outputs": [
    {
     "data": {
      "text/html": [
       "<div>\n",
       "<style scoped>\n",
       "    .dataframe tbody tr th:only-of-type {\n",
       "        vertical-align: middle;\n",
       "    }\n",
       "\n",
       "    .dataframe tbody tr th {\n",
       "        vertical-align: top;\n",
       "    }\n",
       "\n",
       "    .dataframe thead th {\n",
       "        text-align: right;\n",
       "    }\n",
       "</style>\n",
       "<table border=\"1\" class=\"dataframe\">\n",
       "  <thead>\n",
       "    <tr style=\"text-align: right;\">\n",
       "      <th></th>\n",
       "      <th>dt</th>\n",
       "      <th>inn</th>\n",
       "      <th>gtin</th>\n",
       "      <th>prid</th>\n",
       "      <th>operation_type</th>\n",
       "      <th>cnt</th>\n",
       "    </tr>\n",
       "  </thead>\n",
       "  <tbody>\n",
       "    <tr>\n",
       "      <th>0</th>\n",
       "      <td>2021-11-22</td>\n",
       "      <td>F0C677A146366202906368AF9FCEC188</td>\n",
       "      <td>C238E7C33B56BA911F576777316EC9F2</td>\n",
       "      <td>F0C677A146366202906368AF9FCEC188</td>\n",
       "      <td>Импорт. Не ЕАЭС</td>\n",
       "      <td>6</td>\n",
       "    </tr>\n",
       "    <tr>\n",
       "      <th>1</th>\n",
       "      <td>2021-11-22</td>\n",
       "      <td>F0DC262C40FBA363CFCEF8005E4C6140</td>\n",
       "      <td>4D3423957ECDC40F70E37EB75A6A2D3E</td>\n",
       "      <td>F0DC262C40FBA363CFCEF8005E4C6140</td>\n",
       "      <td>Перемаркировка</td>\n",
       "      <td>10</td>\n",
       "    </tr>\n",
       "    <tr>\n",
       "      <th>2</th>\n",
       "      <td>2021-11-22</td>\n",
       "      <td>32D845A9CC2A5BFA9F77CAE0E9A905A5</td>\n",
       "      <td>F1931263F03E1D89A43A3633AAF9FB84</td>\n",
       "      <td>32D845A9CC2A5BFA9F77CAE0E9A905A5</td>\n",
       "      <td>Импорт. Не ЕАЭС</td>\n",
       "      <td>600</td>\n",
       "    </tr>\n",
       "    <tr>\n",
       "      <th>3</th>\n",
       "      <td>2021-11-22</td>\n",
       "      <td>CE816FDF82B121C67CAE9B79203B8BA1</td>\n",
       "      <td>0374D8CAC82E9F0D47C95FA13D68C7C6</td>\n",
       "      <td>CE816FDF82B121C67CAE9B79203B8BA1</td>\n",
       "      <td>Импорт. Не ЕАЭС</td>\n",
       "      <td>1860</td>\n",
       "    </tr>\n",
       "    <tr>\n",
       "      <th>4</th>\n",
       "      <td>2021-11-22</td>\n",
       "      <td>E34F3F6C9E49FE46C87D067306AAC29B</td>\n",
       "      <td>BBC31CA374A30B34CAFBFD027888A73D</td>\n",
       "      <td>E34F3F6C9E49FE46C87D067306AAC29B</td>\n",
       "      <td>РФ</td>\n",
       "      <td>1</td>\n",
       "    </tr>\n",
       "    <tr>\n",
       "      <th>...</th>\n",
       "      <td>...</td>\n",
       "      <td>...</td>\n",
       "      <td>...</td>\n",
       "      <td>...</td>\n",
       "      <td>...</td>\n",
       "      <td>...</td>\n",
       "    </tr>\n",
       "    <tr>\n",
       "      <th>740579</th>\n",
       "      <td>2022-11-21</td>\n",
       "      <td>6B8E111AB5B5C556C0AEA292ACA4D88B</td>\n",
       "      <td>476D3708FBD4E6B64F81D10BC28EA694</td>\n",
       "      <td>7D1B71037D27D5597BEA1D5077663541</td>\n",
       "      <td>Возврат</td>\n",
       "      <td>1</td>\n",
       "    </tr>\n",
       "    <tr>\n",
       "      <th>740580</th>\n",
       "      <td>2022-11-21</td>\n",
       "      <td>25977F1E02F92D2B5AB3605B196C7ACB</td>\n",
       "      <td>37458AD74B59A3DE08EAE571C63DD3CF</td>\n",
       "      <td>7D1B71037D27D5597BEA1D5077663541</td>\n",
       "      <td>Возврат</td>\n",
       "      <td>1</td>\n",
       "    </tr>\n",
       "    <tr>\n",
       "      <th>740581</th>\n",
       "      <td>2022-11-21</td>\n",
       "      <td>126F1B83C0B42598DEE7E815A6ACAC71</td>\n",
       "      <td>DB81FBEFD3EAA20E18DCCCD397717499</td>\n",
       "      <td>126F1B83C0B42598DEE7E815A6ACAC71</td>\n",
       "      <td>Возврат</td>\n",
       "      <td>2</td>\n",
       "    </tr>\n",
       "    <tr>\n",
       "      <th>740582</th>\n",
       "      <td>2022-11-21</td>\n",
       "      <td>0E8EEC5192C68CF67F0E02AE30AFB56A</td>\n",
       "      <td>0504A3B05E1BD8A63D3A83F13CF49658</td>\n",
       "      <td>88747153B9CE8C25EA0347DC712C1368</td>\n",
       "      <td>Возврат</td>\n",
       "      <td>1</td>\n",
       "    </tr>\n",
       "    <tr>\n",
       "      <th>740583</th>\n",
       "      <td>2022-11-21</td>\n",
       "      <td>126F1B83C0B42598DEE7E815A6ACAC71</td>\n",
       "      <td>71E9E19A1129E95B24F1850FB8A13D48</td>\n",
       "      <td>126F1B83C0B42598DEE7E815A6ACAC71</td>\n",
       "      <td>Возврат</td>\n",
       "      <td>1</td>\n",
       "    </tr>\n",
       "  </tbody>\n",
       "</table>\n",
       "<p>740584 rows × 6 columns</p>\n",
       "</div>"
      ],
      "text/plain": [
       "                dt                               inn  \\\n",
       "0       2021-11-22  F0C677A146366202906368AF9FCEC188   \n",
       "1       2021-11-22  F0DC262C40FBA363CFCEF8005E4C6140   \n",
       "2       2021-11-22  32D845A9CC2A5BFA9F77CAE0E9A905A5   \n",
       "3       2021-11-22  CE816FDF82B121C67CAE9B79203B8BA1   \n",
       "4       2021-11-22  E34F3F6C9E49FE46C87D067306AAC29B   \n",
       "...            ...                               ...   \n",
       "740579  2022-11-21  6B8E111AB5B5C556C0AEA292ACA4D88B   \n",
       "740580  2022-11-21  25977F1E02F92D2B5AB3605B196C7ACB   \n",
       "740581  2022-11-21  126F1B83C0B42598DEE7E815A6ACAC71   \n",
       "740582  2022-11-21  0E8EEC5192C68CF67F0E02AE30AFB56A   \n",
       "740583  2022-11-21  126F1B83C0B42598DEE7E815A6ACAC71   \n",
       "\n",
       "                                    gtin                              prid  \\\n",
       "0       C238E7C33B56BA911F576777316EC9F2  F0C677A146366202906368AF9FCEC188   \n",
       "1       4D3423957ECDC40F70E37EB75A6A2D3E  F0DC262C40FBA363CFCEF8005E4C6140   \n",
       "2       F1931263F03E1D89A43A3633AAF9FB84  32D845A9CC2A5BFA9F77CAE0E9A905A5   \n",
       "3       0374D8CAC82E9F0D47C95FA13D68C7C6  CE816FDF82B121C67CAE9B79203B8BA1   \n",
       "4       BBC31CA374A30B34CAFBFD027888A73D  E34F3F6C9E49FE46C87D067306AAC29B   \n",
       "...                                  ...                               ...   \n",
       "740579  476D3708FBD4E6B64F81D10BC28EA694  7D1B71037D27D5597BEA1D5077663541   \n",
       "740580  37458AD74B59A3DE08EAE571C63DD3CF  7D1B71037D27D5597BEA1D5077663541   \n",
       "740581  DB81FBEFD3EAA20E18DCCCD397717499  126F1B83C0B42598DEE7E815A6ACAC71   \n",
       "740582  0504A3B05E1BD8A63D3A83F13CF49658  88747153B9CE8C25EA0347DC712C1368   \n",
       "740583  71E9E19A1129E95B24F1850FB8A13D48  126F1B83C0B42598DEE7E815A6ACAC71   \n",
       "\n",
       "         operation_type   cnt  \n",
       "0       Импорт. Не ЕАЭС     6  \n",
       "1        Перемаркировка    10  \n",
       "2       Импорт. Не ЕАЭС   600  \n",
       "3       Импорт. Не ЕАЭС  1860  \n",
       "4                    РФ     1  \n",
       "...                 ...   ...  \n",
       "740579          Возврат     1  \n",
       "740580          Возврат     1  \n",
       "740581          Возврат     2  \n",
       "740582          Возврат     1  \n",
       "740583          Возврат     1  \n",
       "\n",
       "[740584 rows x 6 columns]"
      ]
     },
     "execution_count": 6,
     "metadata": {},
     "output_type": "execute_result"
    }
   ],
   "source": [
    "input_circulation_data"
   ]
  },
  {
   "cell_type": "code",
   "execution_count": 12,
   "metadata": {},
   "outputs": [],
   "source": [
    "fig = px.pie(\n",
    "    data_frame = input_circulation_data[\"operation_type\"], \n",
    "    # values=\"operation_type\", \n",
    "    # names=\"operation_type\",\n",
    "    title='Population of European continent'\n",
    "    )"
   ]
  },
  {
   "cell_type": "code",
   "execution_count": null,
   "metadata": {},
   "outputs": [],
   "source": [
    "fig"
   ]
  },
  {
   "cell_type": "code",
   "execution_count": 109,
   "metadata": {},
   "outputs": [
    {
     "data": {
      "image/png": "[encoded data removed]",
      "text/plain": [
       "<Figure size 640x480 with 1 Axes>"
      ]
     },
     "metadata": {},
     "output_type": "display_data"
    }
   ],
   "source": [
    "pie_plot(input_circulation_data, \"operation_type\", postfix=\"\")"
   ]
  },
  {
   "cell_type": "code",
   "execution_count": 101,
   "metadata": {},
   "outputs": [
    {
     "data": {
      "image/png": "[encoded data removed]",
      "text/plain": [
       "<Figure size 640x480 with 1 Axes>"
      ]
     },
     "metadata": {},
     "output_type": "display_data"
    }
   ],
   "source": [
    "show_boxplot(input_circulation_data, 'cnt')"
   ]
  },
  {
   "attachments": {},
   "cell_type": "markdown",
   "metadata": {},
   "source": [
    "## Данные о выводе товаров из оборота"
   ]
  },
  {
   "attachments": {},
   "cell_type": "markdown",
   "metadata": {},
   "source": [
    "### NOTES\n",
    "\n",
    "1. сегрегировать розничные сделки от оптовых \n",
    "2. перепад температур \n"
   ]
  },
  {
   "cell_type": "code",
   "execution_count": 87,
   "metadata": {},
   "outputs": [],
   "source": [
    "output_circulation_data = pd.read_parquet(OUTPUT_CIRCULATION_PARQUET_FILENAME)"
   ]
  },
  {
   "cell_type": "code",
   "execution_count": 88,
   "metadata": {},
   "outputs": [
    {
     "data": {
      "text/html": [
       "<div>\n",
       "<style scoped>\n",
       "    .dataframe tbody tr th:only-of-type {\n",
       "        vertical-align: middle;\n",
       "    }\n",
       "\n",
       "    .dataframe tbody tr th {\n",
       "        vertical-align: top;\n",
       "    }\n",
       "\n",
       "    .dataframe thead th {\n",
       "        text-align: right;\n",
       "    }\n",
       "</style>\n",
       "<table border=\"1\" class=\"dataframe\">\n",
       "  <thead>\n",
       "    <tr style=\"text-align: right;\">\n",
       "      <th></th>\n",
       "      <th>dt</th>\n",
       "      <th>gtin</th>\n",
       "      <th>prid</th>\n",
       "      <th>inn</th>\n",
       "      <th>id_sp_</th>\n",
       "      <th>type_operation</th>\n",
       "      <th>price</th>\n",
       "      <th>cnt</th>\n",
       "    </tr>\n",
       "  </thead>\n",
       "  <tbody>\n",
       "    <tr>\n",
       "      <th>0</th>\n",
       "      <td>2021-11-22</td>\n",
       "      <td>5A3E5F7B2D093D1D6CB3CF93BA9AC8A6</td>\n",
       "      <td>DC7432556B58D454B4E37F0F0D1E663D</td>\n",
       "      <td>B035ED5D308BC70E5EA9342B6DBF5810</td>\n",
       "      <td>19485F700068E6A9A8593AFDE9803638</td>\n",
       "      <td>Продажа конечному потребителю в точке продаж</td>\n",
       "      <td>3500</td>\n",
       "      <td>1</td>\n",
       "    </tr>\n",
       "    <tr>\n",
       "      <th>1</th>\n",
       "      <td>2021-11-22</td>\n",
       "      <td>9A2202A48FC5E462C44B78B0C79E1DBD</td>\n",
       "      <td>D18B1B470E57871FAB5B4E949E256BB4</td>\n",
       "      <td>DD486FED86564603D2CD7CF9EED2C458</td>\n",
       "      <td>C2969A4C8A40C12902EAD4936E303045</td>\n",
       "      <td>Продажа конечному потребителю в точке продаж</td>\n",
       "      <td>56714</td>\n",
       "      <td>1</td>\n",
       "    </tr>\n",
       "    <tr>\n",
       "      <th>2</th>\n",
       "      <td>2021-11-22</td>\n",
       "      <td>877ABE9DE14E0B510DFC8DE63EEFA817</td>\n",
       "      <td>62B5EAEF59E6693F44B1074C1140BF45</td>\n",
       "      <td>62B5EAEF59E6693F44B1074C1140BF45</td>\n",
       "      <td>5637334F301773E28AE8730713E6D5F7</td>\n",
       "      <td>Продажа конечному потребителю в точке продаж</td>\n",
       "      <td>74314</td>\n",
       "      <td>1</td>\n",
       "    </tr>\n",
       "    <tr>\n",
       "      <th>3</th>\n",
       "      <td>2021-11-22</td>\n",
       "      <td>B004F889F17F8AB365C494B3D0D06E1A</td>\n",
       "      <td>D7326D87A37D73AF19AF53668A7116D6</td>\n",
       "      <td>D7326D87A37D73AF19AF53668A7116D6</td>\n",
       "      <td>0FF56DEC16050D3B6372F2CB1BD6DFCB</td>\n",
       "      <td>Продажа конечному потребителю в точке продаж</td>\n",
       "      <td>4999</td>\n",
       "      <td>1</td>\n",
       "    </tr>\n",
       "    <tr>\n",
       "      <th>4</th>\n",
       "      <td>2021-11-22</td>\n",
       "      <td>E1C0503EA9201D56D7173CB4CA4A6AFA</td>\n",
       "      <td>50955BB0B97298EEAEB1F6CF9712F37A</td>\n",
       "      <td>39FFA592BE77CA7DE37C65C1B8423E8C</td>\n",
       "      <td>9E660AA1DE428BA88D1942DB2824BDAB</td>\n",
       "      <td>Продажа конечному потребителю в точке продаж</td>\n",
       "      <td>29857</td>\n",
       "      <td>1</td>\n",
       "    </tr>\n",
       "  </tbody>\n",
       "</table>\n",
       "</div>"
      ],
      "text/plain": [
       "          dt                              gtin  \\\n",
       "0 2021-11-22  5A3E5F7B2D093D1D6CB3CF93BA9AC8A6   \n",
       "1 2021-11-22  9A2202A48FC5E462C44B78B0C79E1DBD   \n",
       "2 2021-11-22  877ABE9DE14E0B510DFC8DE63EEFA817   \n",
       "3 2021-11-22  B004F889F17F8AB365C494B3D0D06E1A   \n",
       "4 2021-11-22  E1C0503EA9201D56D7173CB4CA4A6AFA   \n",
       "\n",
       "                               prid                               inn  \\\n",
       "0  DC7432556B58D454B4E37F0F0D1E663D  B035ED5D308BC70E5EA9342B6DBF5810   \n",
       "1  D18B1B470E57871FAB5B4E949E256BB4  DD486FED86564603D2CD7CF9EED2C458   \n",
       "2  62B5EAEF59E6693F44B1074C1140BF45  62B5EAEF59E6693F44B1074C1140BF45   \n",
       "3  D7326D87A37D73AF19AF53668A7116D6  D7326D87A37D73AF19AF53668A7116D6   \n",
       "4  50955BB0B97298EEAEB1F6CF9712F37A  39FFA592BE77CA7DE37C65C1B8423E8C   \n",
       "\n",
       "                             id_sp_  \\\n",
       "0  19485F700068E6A9A8593AFDE9803638   \n",
       "1  C2969A4C8A40C12902EAD4936E303045   \n",
       "2  5637334F301773E28AE8730713E6D5F7   \n",
       "3  0FF56DEC16050D3B6372F2CB1BD6DFCB   \n",
       "4  9E660AA1DE428BA88D1942DB2824BDAB   \n",
       "\n",
       "                                 type_operation  price  cnt  \n",
       "0  Продажа конечному потребителю в точке продаж   3500    1  \n",
       "1  Продажа конечному потребителю в точке продаж  56714    1  \n",
       "2  Продажа конечному потребителю в точке продаж  74314    1  \n",
       "3  Продажа конечному потребителю в точке продаж   4999    1  \n",
       "4  Продажа конечному потребителю в точке продаж  29857    1  "
      ]
     },
     "execution_count": 88,
     "metadata": {},
     "output_type": "execute_result"
    }
   ],
   "source": [
    "output_circulation_data.head()"
   ]
  },
  {
   "cell_type": "code",
   "execution_count": 98,
   "metadata": {},
   "outputs": [
    {
     "data": {
      "image/png": "[encoded data removed]",
      "text/plain": [
       "<Figure size 640x480 with 1 Axes>"
      ]
     },
     "metadata": {},
     "output_type": "display_data"
    }
   ],
   "source": [
    "show_boxplot(output_circulation_data, 'cnt')"
   ]
  },
  {
   "cell_type": "code",
   "execution_count": 99,
   "metadata": {},
   "outputs": [
    {
     "data": {
      "image/png": "[encoded data removed]",
      "text/plain": [
       "<Figure size 640x480 with 1 Axes>"
      ]
     },
     "metadata": {},
     "output_type": "display_data"
    }
   ],
   "source": [
    "show_boxplot(output_circulation_data, 'price')"
   ]
  },
  {
   "cell_type": "code",
   "execution_count": 91,
   "metadata": {},
   "outputs": [
    {
     "data": {
      "text/plain": [
       "145162"
      ]
     },
     "execution_count": 91,
     "metadata": {},
     "output_type": "execute_result"
    }
   ],
   "source": [
    "output_circulation_data.cnt.max()"
   ]
  },
  {
   "cell_type": "code",
   "execution_count": 95,
   "metadata": {},
   "outputs": [
    {
     "data": {
      "text/plain": [
       "type_operation\n",
       "Продажа конечному потребителю в точке продаж    49293851\n",
       "Дистанционная продажа конечному потребителю      1290715\n",
       "Прочий тип вывода из оборота                     1205299\n",
       "Конечная продажа организации                      123971\n",
       "Списание / Вывод из оборота без получателя         92474\n",
       "Продажи за пределы РФ                              88286\n",
       "Продажа по государственному контракту                585\n",
       "dtype: int64"
      ]
     },
     "execution_count": 95,
     "metadata": {},
     "output_type": "execute_result"
    }
   ],
   "source": [
    "output_circulation_data.value_counts(\"type_operation\")"
   ]
  },
  {
   "cell_type": "code",
   "execution_count": 110,
   "metadata": {},
   "outputs": [
    {
     "data": {
      "image/png": "[encoded data removed]",
      "text/plain": [
       "<Figure size 640x480 with 1 Axes>"
      ]
     },
     "metadata": {},
     "output_type": "display_data"
    }
   ],
   "source": [
    "pie_plot(output_circulation_data, \"type_operation\", postfix=\"\")"
   ]
  },
  {
   "attachments": {},
   "cell_type": "markdown",
   "metadata": {},
   "source": [
    "## Данные о перемещениях товаров "
   ]
  },
  {
   "cell_type": "code",
   "execution_count": 2,
   "metadata": {},
   "outputs": [],
   "source": [
    "transition_circulation_data = pd.read_parquet(TRANSITION_CIRCULATION_PARQUET_FILENAME)"
   ]
  },
  {
   "cell_type": "code",
   "execution_count": 4,
   "metadata": {},
   "outputs": [
    {
     "data": {
      "text/html": [
       "<div>\n",
       "<style scoped>\n",
       "    .dataframe tbody tr th:only-of-type {\n",
       "        vertical-align: middle;\n",
       "    }\n",
       "\n",
       "    .dataframe tbody tr th {\n",
       "        vertical-align: top;\n",
       "    }\n",
       "\n",
       "    .dataframe thead th {\n",
       "        text-align: right;\n",
       "    }\n",
       "</style>\n",
       "<table border=\"1\" class=\"dataframe\">\n",
       "  <thead>\n",
       "    <tr style=\"text-align: right;\">\n",
       "      <th></th>\n",
       "      <th>dt</th>\n",
       "      <th>gtin</th>\n",
       "      <th>prid</th>\n",
       "      <th>sender_inn</th>\n",
       "      <th>receiver_inn</th>\n",
       "      <th>cnt_moved</th>\n",
       "    </tr>\n",
       "  </thead>\n",
       "  <tbody>\n",
       "    <tr>\n",
       "      <th>0</th>\n",
       "      <td>2021-11-22</td>\n",
       "      <td>867FDFE9E03925792F329DEDBAA3955F</td>\n",
       "      <td>9246A2BE043136FC4B4A166BB0E25D3E</td>\n",
       "      <td>2E55013259E009F4FC1E5EFCF170EA8B</td>\n",
       "      <td>8D5F8E7D20AD9A8D0E8EE5769321D8C3</td>\n",
       "      <td>1</td>\n",
       "    </tr>\n",
       "    <tr>\n",
       "      <th>1</th>\n",
       "      <td>2021-11-22</td>\n",
       "      <td>4FB53B945150E362C307D60297066562</td>\n",
       "      <td>9246A2BE043136FC4B4A166BB0E25D3E</td>\n",
       "      <td>32B53198A919C559CB84DC0487947E80</td>\n",
       "      <td>EDE6F6D21300D96A9E207EA4F59321EF</td>\n",
       "      <td>1</td>\n",
       "    </tr>\n",
       "    <tr>\n",
       "      <th>2</th>\n",
       "      <td>2021-11-22</td>\n",
       "      <td>38BA9B93C5C987770AD698646D2FAB66</td>\n",
       "      <td>2DADC5DF60A9FC194A3388C1612CC967</td>\n",
       "      <td>3A87113AC25EFD88BD3407ACECFA3869</td>\n",
       "      <td>D02A2294DDF3BCF7218D6FEFDB35A906</td>\n",
       "      <td>1</td>\n",
       "    </tr>\n",
       "    <tr>\n",
       "      <th>3</th>\n",
       "      <td>2021-11-22</td>\n",
       "      <td>FA77213DA058666C6781164754CBC0EB</td>\n",
       "      <td>FFC432B34974A68B2845FBED9A7DEB29</td>\n",
       "      <td>C5CDC4F467B7CDA0F3E082BFFEDA9938</td>\n",
       "      <td>051C7D77FE590C5428DB57FD48C5DB9C</td>\n",
       "      <td>3</td>\n",
       "    </tr>\n",
       "    <tr>\n",
       "      <th>4</th>\n",
       "      <td>2021-11-22</td>\n",
       "      <td>E5635C538FE51D88504CE5CFF8BC1D2C</td>\n",
       "      <td>6E536425E534ABA7AB9FEA2ACA91A775</td>\n",
       "      <td>AE7F5C67298A67CACD2A193C9405524F</td>\n",
       "      <td>0D28C0E0C8ADAA3D9B55B557C71D8A8E</td>\n",
       "      <td>2</td>\n",
       "    </tr>\n",
       "  </tbody>\n",
       "</table>\n",
       "</div>"
      ],
      "text/plain": [
       "           dt                              gtin  \\\n",
       "0  2021-11-22  867FDFE9E03925792F329DEDBAA3955F   \n",
       "1  2021-11-22  4FB53B945150E362C307D60297066562   \n",
       "2  2021-11-22  38BA9B93C5C987770AD698646D2FAB66   \n",
       "3  2021-11-22  FA77213DA058666C6781164754CBC0EB   \n",
       "4  2021-11-22  E5635C538FE51D88504CE5CFF8BC1D2C   \n",
       "\n",
       "                               prid                        sender_inn  \\\n",
       "0  9246A2BE043136FC4B4A166BB0E25D3E  2E55013259E009F4FC1E5EFCF170EA8B   \n",
       "1  9246A2BE043136FC4B4A166BB0E25D3E  32B53198A919C559CB84DC0487947E80   \n",
       "2  2DADC5DF60A9FC194A3388C1612CC967  3A87113AC25EFD88BD3407ACECFA3869   \n",
       "3  FFC432B34974A68B2845FBED9A7DEB29  C5CDC4F467B7CDA0F3E082BFFEDA9938   \n",
       "4  6E536425E534ABA7AB9FEA2ACA91A775  AE7F5C67298A67CACD2A193C9405524F   \n",
       "\n",
       "                       receiver_inn  cnt_moved  \n",
       "0  8D5F8E7D20AD9A8D0E8EE5769321D8C3          1  \n",
       "1  EDE6F6D21300D96A9E207EA4F59321EF          1  \n",
       "2  D02A2294DDF3BCF7218D6FEFDB35A906          1  \n",
       "3  051C7D77FE590C5428DB57FD48C5DB9C          3  \n",
       "4  0D28C0E0C8ADAA3D9B55B557C71D8A8E          2  "
      ]
     },
     "execution_count": 4,
     "metadata": {},
     "output_type": "execute_result"
    }
   ],
   "source": [
    "transition_circulation_data.head()"
   ]
  },
  {
   "cell_type": "code",
   "execution_count": 10,
   "metadata": {},
   "outputs": [
    {
     "data": {
      "text/plain": [
       "<AxesSubplot: xlabel='cnt_moved'>"
      ]
     },
     "execution_count": 10,
     "metadata": {},
     "output_type": "execute_result"
    },
    {
     "data": {
      "image/png": "[encoded data removed]",
      "text/plain": [
       "<Figure size 640x480 with 1 Axes>"
      ]
     },
     "metadata": {},
     "output_type": "display_data"
    }
   ],
   "source": [
    "sns.boxplot(data=transition_circulation_data, x=\"cnt_moved\")"
   ]
  },
  {
   "cell_type": "markdown",
   "metadata": {},
   "source": [
    "## Данные о перемещениях товаров "
   ]
  },
  {
   "cell_type": "code",
   "execution_count": 24,
   "metadata": {},
   "outputs": [],
   "source": [
    "outlets_handbook_data = pd.read_csv(OUTLETS_HANDBOOK_FILENAME)"
   ]
  },
  {
   "cell_type": "code",
   "execution_count": 26,
   "metadata": {},
   "outputs": [
    {
     "data": {
      "text/html": [
       "<div>\n",
       "<style scoped>\n",
       "    .dataframe tbody tr th:only-of-type {\n",
       "        vertical-align: middle;\n",
       "    }\n",
       "\n",
       "    .dataframe tbody tr th {\n",
       "        vertical-align: top;\n",
       "    }\n",
       "\n",
       "    .dataframe thead th {\n",
       "        text-align: right;\n",
       "    }\n",
       "</style>\n",
       "<table border=\"1\" class=\"dataframe\">\n",
       "  <thead>\n",
       "    <tr style=\"text-align: right;\">\n",
       "      <th></th>\n",
       "      <th>id_sp_</th>\n",
       "      <th>inn</th>\n",
       "      <th>region_code</th>\n",
       "      <th>city_with_type</th>\n",
       "      <th>city_fias_id</th>\n",
       "      <th>postal_code</th>\n",
       "    </tr>\n",
       "  </thead>\n",
       "  <tbody>\n",
       "    <tr>\n",
       "      <th>0</th>\n",
       "      <td>C72AC534DBF5E6369840FFE9DA9FF403</td>\n",
       "      <td>0056F9FCFA009E493BEFEAE4FAA71D82</td>\n",
       "      <td>51</td>\n",
       "      <td>NaN</td>\n",
       "      <td>NaN</td>\n",
       "      <td>184421.0</td>\n",
       "    </tr>\n",
       "    <tr>\n",
       "      <th>1</th>\n",
       "      <td>591942644AE25AE4DD26CF943BB97414</td>\n",
       "      <td>81AAC456284F455FC2B141E6E8F1A76C</td>\n",
       "      <td>66</td>\n",
       "      <td>г Екатеринбург</td>\n",
       "      <td>2763c110-cb8b-416a-9dac-ad28a55b4402</td>\n",
       "      <td>620027.0</td>\n",
       "    </tr>\n",
       "    <tr>\n",
       "      <th>2</th>\n",
       "      <td>A6E2261F16F84FF09E2B615EDB008943</td>\n",
       "      <td>87C2FDB73C26C96266A0947C2BB714BF</td>\n",
       "      <td>62</td>\n",
       "      <td>г Рязань</td>\n",
       "      <td>86e5bae4-ef58-4031-b34f-5e9ff914cd55</td>\n",
       "      <td>390026.0</td>\n",
       "    </tr>\n",
       "    <tr>\n",
       "      <th>3</th>\n",
       "      <td>DC3B647A089FA064DE61E0C778F5EE45</td>\n",
       "      <td>87C2FDB73C26C96266A0947C2BB714BF</td>\n",
       "      <td>62</td>\n",
       "      <td>г Рязань</td>\n",
       "      <td>86e5bae4-ef58-4031-b34f-5e9ff914cd55</td>\n",
       "      <td>390017.0</td>\n",
       "    </tr>\n",
       "    <tr>\n",
       "      <th>4</th>\n",
       "      <td>D2F125BAA947B6293CD055DA1DEEA87D</td>\n",
       "      <td>87C2FDB73C26C96266A0947C2BB714BF</td>\n",
       "      <td>62</td>\n",
       "      <td>г Рыбное</td>\n",
       "      <td>91d71d8c-2f1a-43c8-bc84-d78dc4245a1b</td>\n",
       "      <td>391112.0</td>\n",
       "    </tr>\n",
       "  </tbody>\n",
       "</table>\n",
       "</div>"
      ],
      "text/plain": [
       "                             id_sp_                               inn  \\\n",
       "0  C72AC534DBF5E6369840FFE9DA9FF403  0056F9FCFA009E493BEFEAE4FAA71D82   \n",
       "1  591942644AE25AE4DD26CF943BB97414  81AAC456284F455FC2B141E6E8F1A76C   \n",
       "2  A6E2261F16F84FF09E2B615EDB008943  87C2FDB73C26C96266A0947C2BB714BF   \n",
       "3  DC3B647A089FA064DE61E0C778F5EE45  87C2FDB73C26C96266A0947C2BB714BF   \n",
       "4  D2F125BAA947B6293CD055DA1DEEA87D  87C2FDB73C26C96266A0947C2BB714BF   \n",
       "\n",
       "   region_code  city_with_type                          city_fias_id  \\\n",
       "0           51             NaN                                   NaN   \n",
       "1           66  г Екатеринбург  2763c110-cb8b-416a-9dac-ad28a55b4402   \n",
       "2           62        г Рязань  86e5bae4-ef58-4031-b34f-5e9ff914cd55   \n",
       "3           62        г Рязань  86e5bae4-ef58-4031-b34f-5e9ff914cd55   \n",
       "4           62        г Рыбное  91d71d8c-2f1a-43c8-bc84-d78dc4245a1b   \n",
       "\n",
       "   postal_code  \n",
       "0     184421.0  \n",
       "1     620027.0  \n",
       "2     390026.0  \n",
       "3     390017.0  \n",
       "4     391112.0  "
      ]
     },
     "execution_count": 26,
     "metadata": {},
     "output_type": "execute_result"
    }
   ],
   "source": [
    "outlets_handbook_data.head()"
   ]
  },
  {
   "cell_type": "code",
   "execution_count": 28,
   "metadata": {},
   "outputs": [
    {
     "name": "stdout",
     "output_type": "stream",
     "text": [
      "18776/58401\n"
     ]
    }
   ],
   "source": [
    "print(f\"{outlets_handbook_data['city_with_type'].isna().sum()}/{len(outlets_handbook_data)}\")"
   ]
  },
  {
   "cell_type": "code",
   "execution_count": 44,
   "metadata": {},
   "outputs": [],
   "source": [
    "def plot_nans(df, column:str):    \n",
    "    count_nans = df[column].isna().sum()\n",
    "    data = [count_nans, len(df) - count_nans]\n",
    "    labels = ['nan', 'normal']\n",
    "\n",
    "    plt.title(column)\n",
    "    plt.pie(data, labels = labels, colors = sns.color_palette('pastel')[0:2], autopct='%.0f%%')\n",
    "    plt.show()"
   ]
  },
  {
   "cell_type": "code",
   "execution_count": 45,
   "metadata": {},
   "outputs": [
    {
     "data": {
      "image/png": "[encoded data removed]",
      "text/plain": [
       "<Figure size 640x480 with 1 Axes>"
      ]
     },
     "metadata": {},
     "output_type": "display_data"
    }
   ],
   "source": [
    "plot_nans(outlets_handbook_data, \"city_with_type\")"
   ]
  },
  {
   "cell_type": "code",
   "execution_count": 46,
   "metadata": {},
   "outputs": [
    {
     "data": {
      "image/png": "[encoded data removed]",
      "text/plain": [
       "<Figure size 640x480 with 1 Axes>"
      ]
     },
     "metadata": {},
     "output_type": "display_data"
    }
   ],
   "source": [
    "plot_nans(outlets_handbook_data, \"region_code\")"
   ]
  },
  {
   "attachments": {},
   "cell_type": "markdown",
   "metadata": {},
   "source": [
    "у нас есть все коды регионов, но у трети примеров отсутствует строка города, зато у 99%+ есть почтовый индекс по которому мы можем вычислить город и даже район. "
   ]
  },
  {
   "cell_type": "code",
   "execution_count": 47,
   "metadata": {},
   "outputs": [
    {
     "data": {
      "image/png": "[encoded data removed]",
      "text/plain": [
       "<Figure size 640x480 with 1 Axes>"
      ]
     },
     "metadata": {},
     "output_type": "display_data"
    }
   ],
   "source": [
    "plot_nans(outlets_handbook_data, \"postal_code\")"
   ]
  },
  {
   "attachments": {},
   "cell_type": "markdown",
   "metadata": {},
   "source": [
    "## Справочник участников оборота товаров"
   ]
  },
  {
   "cell_type": "code",
   "execution_count": 48,
   "metadata": {},
   "outputs": [],
   "source": [
    "participators_handbook_data = pd.read_csv(PARTICIPATORS_HANDBOOK_FILENAME)"
   ]
  },
  {
   "cell_type": "code",
   "execution_count": 49,
   "metadata": {},
   "outputs": [
    {
     "data": {
      "text/html": [
       "<div>\n",
       "<style scoped>\n",
       "    .dataframe tbody tr th:only-of-type {\n",
       "        vertical-align: middle;\n",
       "    }\n",
       "\n",
       "    .dataframe tbody tr th {\n",
       "        vertical-align: top;\n",
       "    }\n",
       "\n",
       "    .dataframe thead th {\n",
       "        text-align: right;\n",
       "    }\n",
       "</style>\n",
       "<table border=\"1\" class=\"dataframe\">\n",
       "  <thead>\n",
       "    <tr style=\"text-align: right;\">\n",
       "      <th></th>\n",
       "      <th>inn</th>\n",
       "      <th>region_code</th>\n",
       "    </tr>\n",
       "  </thead>\n",
       "  <tbody>\n",
       "    <tr>\n",
       "      <th>0</th>\n",
       "      <td>60DFB6F87ABF6232A5D97A1A827F8D88</td>\n",
       "      <td>1</td>\n",
       "    </tr>\n",
       "    <tr>\n",
       "      <th>1</th>\n",
       "      <td>2D13C279C7CEC509D21695F0268ECCEA</td>\n",
       "      <td>1</td>\n",
       "    </tr>\n",
       "    <tr>\n",
       "      <th>2</th>\n",
       "      <td>1705C73792D7A1A5ABDF1883FE851004</td>\n",
       "      <td>1</td>\n",
       "    </tr>\n",
       "    <tr>\n",
       "      <th>3</th>\n",
       "      <td>B4CC35BD7D8F69E665160F548EBE125D</td>\n",
       "      <td>23</td>\n",
       "    </tr>\n",
       "    <tr>\n",
       "      <th>4</th>\n",
       "      <td>2DB318BEA4A44280FA488A0B2AF36254</td>\n",
       "      <td>1</td>\n",
       "    </tr>\n",
       "    <tr>\n",
       "      <th>...</th>\n",
       "      <td>...</td>\n",
       "      <td>...</td>\n",
       "    </tr>\n",
       "    <tr>\n",
       "      <th>23467</th>\n",
       "      <td>FD378AE7B1D03A5B949A96BF2715B941</td>\n",
       "      <td>77</td>\n",
       "    </tr>\n",
       "    <tr>\n",
       "      <th>23468</th>\n",
       "      <td>CB8661DA918DFA68498D7F929C426E1E</td>\n",
       "      <td>99</td>\n",
       "    </tr>\n",
       "    <tr>\n",
       "      <th>23469</th>\n",
       "      <td>92ECDE80D71E459551E809AF332785AA</td>\n",
       "      <td>77</td>\n",
       "    </tr>\n",
       "    <tr>\n",
       "      <th>23470</th>\n",
       "      <td>86B3B09285C227598C66DE143C5AD336</td>\n",
       "      <td>78</td>\n",
       "    </tr>\n",
       "    <tr>\n",
       "      <th>23471</th>\n",
       "      <td>CB2EC29FD6E90079BD41D5D646F25FE6</td>\n",
       "      <td>77</td>\n",
       "    </tr>\n",
       "  </tbody>\n",
       "</table>\n",
       "<p>23472 rows × 2 columns</p>\n",
       "</div>"
      ],
      "text/plain": [
       "                                    inn  region_code\n",
       "0      60DFB6F87ABF6232A5D97A1A827F8D88            1\n",
       "1      2D13C279C7CEC509D21695F0268ECCEA            1\n",
       "2      1705C73792D7A1A5ABDF1883FE851004            1\n",
       "3      B4CC35BD7D8F69E665160F548EBE125D           23\n",
       "4      2DB318BEA4A44280FA488A0B2AF36254            1\n",
       "...                                 ...          ...\n",
       "23467  FD378AE7B1D03A5B949A96BF2715B941           77\n",
       "23468  CB8661DA918DFA68498D7F929C426E1E           99\n",
       "23469  92ECDE80D71E459551E809AF332785AA           77\n",
       "23470  86B3B09285C227598C66DE143C5AD336           78\n",
       "23471  CB2EC29FD6E90079BD41D5D646F25FE6           77\n",
       "\n",
       "[23472 rows x 2 columns]"
      ]
     },
     "execution_count": 49,
     "metadata": {},
     "output_type": "execute_result"
    }
   ],
   "source": [
    "participators_handbook_data"
   ]
  },
  {
   "cell_type": "code",
   "execution_count": 65,
   "metadata": {},
   "outputs": [
    {
     "data": {
      "image/png": "[encoded data removed]",
      "text/plain": [
       "<Figure size 1600x1000 with 1 Axes>"
      ]
     },
     "metadata": {},
     "output_type": "display_data"
    }
   ],
   "source": [
    "plt.figure(figsize=(16, 10))\n",
    "sns.countplot(data=participators_handbook_data, x=\"region_code\")\n",
    "plt.xticks(rotation=90)\n",
    "plt.show()"
   ]
  },
  {
   "attachments": {},
   "cell_type": "markdown",
   "metadata": {},
   "source": [
    "топ 10 городов по кол-ву участников рынка"
   ]
  },
  {
   "cell_type": "code",
   "execution_count": 69,
   "metadata": {},
   "outputs": [
    {
     "data": {
      "text/plain": [
       "region_code\n",
       "77    1520\n",
       "66    1163\n",
       "50     926\n",
       "22     836\n",
       "38     745\n",
       "24     735\n",
       "23     724\n",
       "42     614\n",
       "74     571\n",
       "78     564\n",
       "dtype: int64"
      ]
     },
     "execution_count": 69,
     "metadata": {},
     "output_type": "execute_result"
    }
   ],
   "source": [
    "participators_handbook_data.value_counts(\"region_code\", ascending=False).head(10) "
   ]
  },
  {
   "attachments": {},
   "cell_type": "markdown",
   "metadata": {},
   "source": [
    "## Справочник продукции"
   ]
  },
  {
   "cell_type": "code",
   "execution_count": null,
   "metadata": {},
   "outputs": [],
   "source": []
  }
 ],
 "metadata": {
  "kernelspec": {
   "display_name": "proton",
   "language": "python",
   "name": "python3"
  },
  "language_info": {
   "codemirror_mode": {
    "name": "ipython",
    "version": 3
   },
   "file_extension": ".py",
   "mimetype": "text/x-python",
   "name": "python",
   "nbconvert_exporter": "python",
   "pygments_lexer": "ipython3",
   "version": "3.11.2"
  },
  "orig_nbformat": 4
 },
 "nbformat": 4,
 "nbformat_minor": 2
}
